{
 "cells": [
  {
   "cell_type": "markdown",
   "id": "d0c23ffe-e4a9-440a-89d6-b588b0c2d8ed",
   "metadata": {},
   "source": [
    "# Data Science Tools and Ecosystem"
   ]
  },
  {
   "cell_type": "markdown",
   "id": "1b900280-862e-4493-9ef6-711d380bc40a",
   "metadata": {},
   "source": [
    "In this notebook, Data Science Tools and Ecosystem are summarized."
   ]
  },
  {
   "cell_type": "markdown",
   "id": "9b5238e1-9fed-4d9b-a8f8-1f941e73ceb5",
   "metadata": {},
   "source": [
    "Some of the popular languages that Data Scientists use are:\n",
    "1. Python\n",
    "2. R\n",
    "3. Julia"
   ]
  },
  {
   "cell_type": "markdown",
   "id": "e65b144e-95f4-4e48-889d-911d7381ea91",
   "metadata": {},
   "source": [
    "Some of the commonly used libraries used by Data Scientists include:\n",
    "1. Panda\n",
    "2. NumPy\n",
    "3. Matplotlib\n",
    "4. Seaborn\n",
    "5. TensorFlow"
   ]
  },
  {
   "cell_type": "markdown",
   "id": "2f8412b9-6295-426e-ba19-d333954f73d7",
   "metadata": {},
   "source": [
    "| Data Science Tools |\n",
    "|--------------------|\n",
    "| JupterLab          |\n",
    "| Apache Zeppelin    |\n",
    "| RStudio            |"
   ]
  },
  {
   "cell_type": "markdown",
   "id": "08b3603d-040c-4da3-8159-c7c034438ff6",
   "metadata": {},
   "source": [
    "### Below are a few examples of evaluating arithmetic expressions in Python."
   ]
  },
  {
   "cell_type": "code",
   "execution_count": 4,
   "id": "bc9e9845-8f24-47ff-97f7-3f871b78bee6",
   "metadata": {},
   "outputs": [
    {
     "data": {
      "text/plain": [
       "17"
      ]
     },
     "execution_count": 4,
     "metadata": {},
     "output_type": "execute_result"
    }
   ],
   "source": [
    "# This a simple arithmetic expression to mutiply then add integers\n",
    "(3*4) + 5"
   ]
  },
  {
   "cell_type": "code",
   "execution_count": 7,
   "id": "717c7a92-69ec-4577-8eb3-c4ae3dbd09af",
   "metadata": {},
   "outputs": [
    {
     "data": {
      "text/plain": [
       "3.3333333333333335"
      ]
     },
     "execution_count": 7,
     "metadata": {},
     "output_type": "execute_result"
    }
   ],
   "source": [
    "# This will convert 200 minutes to hours by diving by 60\n",
    "200/60"
   ]
  },
  {
   "cell_type": "markdown",
   "id": "7ffedf32-ab8a-4854-a96f-e0590b09aaae",
   "metadata": {},
   "source": [
    "**Objectives:**\n",
    "- Show open-source development environment tools\n",
    "- Show how to perform an arithhmetic operation\n",
    "- Show popular libraries used by Data Scientists"
   ]
  },
  {
   "cell_type": "markdown",
   "id": "7d2c18d8-a154-4028-913f-56d4e2e2ddab",
   "metadata": {},
   "source": [
    "## Author:\n",
    "Pedro Andrade"
   ]
  },
  {
   "cell_type": "code",
   "execution_count": null,
   "id": "cd369202-aa15-4a8a-afea-a8ac9281945b",
   "metadata": {},
   "outputs": [],
   "source": []
  }
 ],
 "metadata": {
  "kernelspec": {
   "display_name": "Python [conda env:anaconda_first_environment]",
   "language": "python",
   "name": "conda-env-anaconda_first_environment-py"
  },
  "language_info": {
   "codemirror_mode": {
    "name": "ipython",
    "version": 3
   },
   "file_extension": ".py",
   "mimetype": "text/x-python",
   "name": "python",
   "nbconvert_exporter": "python",
   "pygments_lexer": "ipython3",
   "version": "3.13.5"
  }
 },
 "nbformat": 4,
 "nbformat_minor": 5
}
